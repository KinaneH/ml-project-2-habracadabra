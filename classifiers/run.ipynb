{
 "cells": [
  {
   "cell_type": "code",
   "execution_count": null,
   "metadata": {},
   "outputs": [],
   "source": [
    "import os\n",
    "import sys\n",
    "import random\n",
    "\n",
    "import pandas as pd\n",
    "import numpy as np\n",
    "from sklearn.feature_extraction.text import TfidfVectorizer\n",
    "from sklearn.pipeline import Pipeline\n",
    "from sklearn.svm import LinearSVC\n",
    "\n",
    "PROJECT_ROOT = os.path.abspath(os.path.join(os.getcwd(), \"..\"))\n",
    "sys.path.append(PROJECT_ROOT)\n",
    "\n",
    "from src.cfg import *\n",
    "from src.utils_classifier import load_data_classifiers, preprocess_train_data, preprocess_test_data, get_model, evaluate_model\n",
    "\n",
    "\n",
    "# Set random seed for reproducibility\n",
    "seeed = SEED1 \n",
    "random.seed(seeed)\n",
    "np.random.seed(seeed)"
   ]
  },
  {
   "cell_type": "code",
   "execution_count": 4,
   "metadata": {},
   "outputs": [],
   "source": [
    "# Optimal parameters from the grid search\n",
    "C = 1\n",
    "min_df = 1\n",
    "ngram_range = (1, 3) "
   ]
  },
  {
   "cell_type": "code",
   "execution_count": null,
   "metadata": {},
   "outputs": [],
   "source": [
    "# Load sample data\n",
    "#pos_tweets = load_data_classifiers(TRAIN_POS_PATH)\n",
    "#neg_tweets = load_data_classifiers(TRAIN_NEG_PATH)\n",
    "\n",
    "# Load full data\n",
    "pos_tweets = load_data_classifiers(TRAIN_POS_FULL_PATH)\n",
    "neg_tweets = load_data_classifiers(TRAIN_NEG_FULL_PATH)"
   ]
  },
  {
   "cell_type": "code",
   "execution_count": null,
   "metadata": {},
   "outputs": [],
   "source": [
    "# Preprocess and clean the train and validation data\n",
    "X_train, X_val, y_train, y_val = preprocess_train_data(\n",
    "    pos_tweets, neg_tweets, show_lengths=True, show_samples=True, seed_for_split=seeed\n",
    ")"
   ]
  },
  {
   "cell_type": "code",
   "execution_count": null,
   "metadata": {},
   "outputs": [],
   "source": [
    "# Preprocess test data\n",
    "test_ids, cleaned_test_texts = preprocess_test_data(TEST_PATH)\n",
    "print(f\"Processed {len(test_ids)} test samples.\")"
   ]
  },
  {
   "cell_type": "code",
   "execution_count": null,
   "metadata": {},
   "outputs": [],
   "source": [
    "# Define the SVM model pipeline with optimal parameters\n",
    "print(\"-----------------------------------------------------------\")\n",
    "print(\"Training SVM model with optimal parameters...\")\n",
    "\n",
    "pipeline = Pipeline([\n",
    "    ('vectorizer', TfidfVectorizer(min_df=min_df, ngram_range=ngram_range)),\n",
    "    ('classifier', LinearSVC(C= C, max_iter=10000))\n",
    "])\n",
    "\n",
    "# Train the model\n",
    "pipeline.fit(X_train, y_train)\n",
    "\n",
    "# Evaluate on validation set\n",
    "val_f1 = evaluate_model(pipeline, X_val, y_val, metric='f1')\n",
    "print(f\"Validation F1 score for SVM: {val_f1:.4f}\")\n",
    "print(\"-----------------------------------------------------------\\n\")\n",
    "\n",
    "# Transform test data and make predictions\n",
    "vectorizer = pipeline.named_steps['vectorizer']\n",
    "X_test_tfidf = vectorizer.transform(cleaned_test_texts)\n",
    "classifier = pipeline.named_steps['classifier']\n",
    "test_predictions = classifier.predict(X_test_tfidf)\n",
    "\n",
    "# Save predictions\n",
    "submission = pd.DataFrame({\n",
    "    \"Id\": test_ids,\n",
    "    \"Prediction\": test_predictions\n",
    "})"
   ]
  },
  {
   "cell_type": "code",
   "execution_count": null,
   "metadata": {},
   "outputs": [],
   "source": [
    "# Save submission file\n",
    "submission_file_path = f\"final_submission.csv\"\n",
    "submission.to_csv(submission_file_path, index=False)\n",
    "\n",
    "print(\"-----------------------------------------------------------\")\n",
    "print(f\"Submission file for SVM saved to {submission_file_path}\")\n",
    "print(\"-----------------------------------------------------------\")"
   ]
  }
 ],
 "metadata": {
  "kernelspec": {
   "display_name": "base",
   "language": "python",
   "name": "python3"
  },
  "language_info": {
   "codemirror_mode": {
    "name": "ipython",
    "version": 3
   },
   "file_extension": ".py",
   "mimetype": "text/x-python",
   "name": "python",
   "nbconvert_exporter": "python",
   "pygments_lexer": "ipython3",
   "version": "3.12.7"
  }
 },
 "nbformat": 4,
 "nbformat_minor": 2
}
