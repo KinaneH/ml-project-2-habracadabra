{
 "cells": [
  {
   "cell_type": "code",
   "execution_count": null,
   "metadata": {},
   "outputs": [],
   "source": [
    "import os\n",
    "import sys\n",
    "import random\n",
    "\n",
    "import pandas as pd\n",
    "import numpy as np\n",
    "from matplotlib import pyplot as plt\n",
    "from sklearn.feature_extraction.text import TfidfVectorizer\n",
    "from sklearn.pipeline import Pipeline\n",
    "from sklearn.svm import LinearSVC\n",
    "from sklearn.linear_model import LogisticRegression\n",
    "\n",
    "PROJECT_ROOT = os.path.abspath(os.path.join(os.getcwd(), \"..\"))\n",
    "sys.path.append(PROJECT_ROOT)\n",
    "\n",
    "from src.cfg import *\n",
    "from src.utils_classifier import load_data_classifiers, preprocess_train_data, preprocess_test_data, evaluate_model\n",
    "\n",
    "\n",
    "# Set random seed for reproducibility\n",
    "seeed = SEED1 \n",
    "random.seed(seeed)\n",
    "np.random.seed(seeed)"
   ]
  },
  {
   "cell_type": "code",
   "execution_count": 2,
   "metadata": {},
   "outputs": [],
   "source": [
    "# Define range of C values\n",
    "C_values = [0.01, 0.1, 1, 10, 100]\n",
    "\n",
    "# Load and preprocess data\n",
    "pos_tweets = load_data_classifiers(TRAIN_POS_PATH)\n",
    "neg_tweets = load_data_classifiers(TRAIN_NEG_PATH)\n",
    "\n",
    "X_train, X_val, y_train, y_val = preprocess_train_data(\n",
    "    pos_tweets, neg_tweets, show_lengths=False, show_samples=False, seed_for_split=seeed\n",
    ")"
   ]
  },
  {
   "cell_type": "code",
   "execution_count": null,
   "metadata": {},
   "outputs": [],
   "source": [
    "# Store F1 scores for both models\n",
    "f1_scores_svm = []\n",
    "f1_scores_lr = []\n",
    "\n",
    "for C in C_values:\n",
    "    print(f\"Training SVM model with C={C}...\")\n",
    "\n",
    "    # Define SVM pipeline\n",
    "    svm_pipeline = Pipeline([\n",
    "        ('vectorizer', TfidfVectorizer(min_df=1, ngram_range=(1, 3))),\n",
    "        ('classifier', LinearSVC(C=C, max_iter=10000))\n",
    "    ])\n",
    "\n",
    "    # Train the SVM model\n",
    "    svm_pipeline.fit(X_train, y_train)\n",
    "\n",
    "    # Evaluate SVM on validation set\n",
    "    val_f1_svm = evaluate_model(svm_pipeline, X_val, y_val, metric='f1')\n",
    "    f1_scores_svm.append(val_f1_svm)\n",
    "    print(f\"Validation F1 score for SVM with C={C}: {val_f1_svm:.4f}\")\n",
    "    \n",
    "    print(\"-----------------------------------------\")\n",
    "\n",
    "    print(f\"Training LR model with C={C}...\")\n",
    "\n",
    "    # Define LR pipeline\n",
    "    lr_pipeline = Pipeline([\n",
    "        ('vectorizer', TfidfVectorizer(min_df=1, ngram_range=(1, 3))),\n",
    "        ('classifier', LogisticRegression(C=C, max_iter=10000))\n",
    "    ])\n",
    "\n",
    "    # Train the LR model\n",
    "    lr_pipeline.fit(X_train, y_train)\n",
    "\n",
    "    # Evaluate LR on validation set\n",
    "    val_f1_lr = evaluate_model(lr_pipeline, X_val, y_val, metric='f1')\n",
    "    f1_scores_lr.append(val_f1_lr)\n",
    "    print(f\"Validation F1 score for LR with C={C}: {val_f1_lr:.4f}\")"
   ]
  },
  {
   "cell_type": "code",
   "execution_count": null,
   "metadata": {},
   "outputs": [],
   "source": [
    "# Plot F1 scores vs C values for both models\n",
    "plt.figure(figsize=(8, 6))\n",
    "plt.plot(C_values, f1_scores_svm, marker='o', label='SVM')\n",
    "plt.plot(C_values, f1_scores_lr, marker='s', label='Logistic Regression')\n",
    "plt.xscale('log')\n",
    "plt.xlabel('C (log scale)', fontsize=14)\n",
    "plt.ylabel('Validation F1 Score', fontsize=14)\n",
    "plt.legend()\n",
    "plt.grid(True)\n",
    "\n",
    "plt.savefig(\"f1_scores_plot.pdf\" ,format='pdf') # Save it as pdf\n",
    "plt.show()"
   ]
  }
 ],
 "metadata": {
  "kernelspec": {
   "display_name": "base",
   "language": "python",
   "name": "python3"
  },
  "language_info": {
   "codemirror_mode": {
    "name": "ipython",
    "version": 3
   },
   "file_extension": ".py",
   "mimetype": "text/x-python",
   "name": "python",
   "nbconvert_exporter": "python",
   "pygments_lexer": "ipython3",
   "version": "3.12.7"
  }
 },
 "nbformat": 4,
 "nbformat_minor": 2
}
